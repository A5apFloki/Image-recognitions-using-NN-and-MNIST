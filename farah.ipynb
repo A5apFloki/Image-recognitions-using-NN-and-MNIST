{
 "cells": [
  {
   "attachments": {},
   "cell_type": "markdown",
   "metadata": {},
   "source": [
    "# <font color='red'>Ce code entraîne et évalue un réseau de neurones simple </br> pour reconnaître le nombre 5 dans les images de l'ensemble de données MNIST</font>"
   ]
  },
  {
   "attachments": {},
   "cell_type": "markdown",
   "metadata": {},
   "source": [
    "### Les bibliothèques nécessaires sont importées."
   ]
  },
  {
   "cell_type": "code",
   "execution_count": 2,
   "metadata": {},
   "outputs": [],
   "source": [
    "import tensorflow as tf\n",
    "from tensorflow import keras\n",
    "import numpy as np\n",
    "import matplotlib.pyplot as plt\n",
    "import random"
   ]
  },
  {
   "attachments": {},
   "cell_type": "markdown",
   "metadata": {},
   "source": [
    "## Chargement de l'ensemble de données MNIST (x_train, y_train), (x_test, y_test) "
   ]
  },
  {
   "cell_type": "code",
   "execution_count": 3,
   "metadata": {},
   "outputs": [],
   "source": [
    "(x_train, y_train), (x_test, y_test) = keras.datasets.mnist.load_data()\n",
    "## Les images (x_train et x_test) sont redimensionnées (normalisation) pour ne contenir que des pixels noirs ou blancs (0 ou 1) en utilisant un seuil de 127\n",
    "x_train[x_train < 127] = 1\n",
    "x_train[x_train >= 127] = 0\n",
    "x_test[x_test < 127] = 1\n",
    "x_test[x_test >= 127] = 0"
   ]
  },
  {
   "attachments": {},
   "cell_type": "markdown",
   "metadata": {},
   "source": [
    "## Function de division d'image"
   ]
  },
  {
   "cell_type": "code",
   "execution_count": 4,
   "metadata": {},
   "outputs": [],
   "source": [
    "#fonction pour diviser l'image en 4 parties : top_right, top_left, bottom_right, bottom_left\n",
    "def Divide_By_4(img):\n",
    "    Height, Width = img.shape\n",
    "    Divider = Width // 2\n",
    "    top_right = img[:Divider, :Divider] \n",
    "    top_left = img[:Divider, Divider:] \n",
    "    bottom_right = img[Divider:, :Divider] \n",
    "    bottom_left = img[Divider:, Divider:]\n",
    "\n",
    "    return top_right, top_left, bottom_right, bottom_left\n",
    "    \n",
    "#La fonction Divide_By_4_Again() utilise la fonction Divide_By_4() pour diviser l'image en 16 sous-images\n",
    "def Divide_By_4_Again(img):\n",
    "    tr, tl, br, bl = Divide_By_4(img)\n",
    "    image_reformed = Divide_By_4(tr), Divide_By_4(tl), Divide_By_4(br), Divide_By_4(bl)\n",
    "    image_reformed = np.asarray(image_reformed)\n",
    "    image_reformed = image_reformed.reshape(16, 7, 7)\n",
    "    return image_reformed"
   ]
  },
  {
   "attachments": {},
   "cell_type": "markdown",
   "metadata": {},
   "source": [
    "## Function de reformalisation de données (utiliser chaque image diviser pour calculer ses pourcentage et les utiliser come donées d'enter)"
   ]
  },
  {
   "cell_type": "code",
   "execution_count": 7,
   "metadata": {},
   "outputs": [],
   "source": [
    "#La fonction reformulate_Mnist_With_Percentage() prend en entrée un ensemble de données (x) et retourne une liste de pourcentage de pixels noirs pour chaque sous-image , \n",
    "#elle fait se travaille sur chaque image de mnist.\n",
    "def reformulate_Mnist_With_Percentage(x):\n",
    "    New_Mnist = []\n",
    "    for i in x:\n",
    "        img = Divide_By_4_Again(i)\n",
    "        img_percent = []\n",
    "        for j in range(16):\n",
    "            blacks = 0\n",
    "            for k in range(7):\n",
    "                for l in range(7):\n",
    "                    if(img[j][k][l] == 0):\n",
    "                        blacks += 1\n",
    "            img_percent.append((blacks / 49) * 100)\n",
    "        New_Mnist.append(img_percent)\n",
    "    return New_Mnist\n",
    "\n",
    "#reformed_x_train et reformed_x_test utilise la fonction reformulate_Mnist_With_Percentage() pour être reformatées \n",
    "#pour les utiliser come données d'enter dans le modele\n",
    "\n",
    "reformed_x_train = reformulate_Mnist_With_Percentage(x_train)\n",
    "reformed_x_test = reformulate_Mnist_With_Percentage(x_test)\n",
    "\n",
    "#transformer les donnée en un array numpy\n",
    "reformed_x_train = np.array(reformed_x_train)\n",
    "reformed_x_test = np.array(reformed_x_test)\n"
   ]
  },
  {
   "attachments": {},
   "cell_type": "markdown",
   "metadata": {},
   "source": [
    "### Définir le modèle"
   ]
  },
  {
   "cell_type": "code",
   "execution_count": 8,
   "metadata": {},
   "outputs": [
    {
     "name": "stdout",
     "output_type": "stream",
     "text": [
      "Epoch 1/3\n",
      "1875/1875 [==============================] - 3s 1ms/step - loss: 0.3281 - accuracy: 0.9055\n",
      "Epoch 2/3\n",
      "1875/1875 [==============================] - 2s 1ms/step - loss: 0.2061 - accuracy: 0.9302\n",
      "Epoch 3/3\n",
      "1875/1875 [==============================] - 2s 1ms/step - loss: 0.1668 - accuracy: 0.9407\n"
     ]
    },
    {
     "data": {
      "text/plain": [
       "<keras.callbacks.History at 0x21e6c5a8bb0>"
      ]
     },
     "execution_count": 8,
     "metadata": {},
     "output_type": "execute_result"
    }
   ],
   "source": [
    "\n",
    "#1 si l'image est un 5, 0 sinon\n",
    "train_sur_5= (y_train == 5) # creer un array de booleans\n",
    "test_sur_5= (y_test == 5)\n",
    "\n",
    "#Le modèle est défini en utilisant keras.Sequential. Il est composé de deux couches :\n",
    "model = keras.Sequential([\n",
    "    #La première couche est une couche dense avec 6 neurones et une fonction d'activation relu\n",
    "    keras.layers.Dense(6, input_shape=(16,), activation='relu'),\n",
    "    #La deuxième couche est une couche dense avec 1 neurone et une fonction d'activation sigmoid\n",
    "    keras.layers.Dense(1, activation='sigmoid')\n",
    "])\n",
    "\n",
    "\n",
    "model.compile(\n",
    "    #l'optimiseur 'adam' pour mettre à jour les poids\n",
    "    optimizer='adam',\n",
    "    #la fonction de coût 'BinaryCrossentropy' pour calculer la perte\n",
    "    loss='BinaryCrossentropy',\n",
    "    #la métrique 'accuracy' pour évaluer la performance\n",
    "    metrics=['accuracy']\n",
    ")\n",
    "\n",
    "#Le modèle est entraîné sur les données d'entraînement (reformed_x_train) et les étiquettes d'entraînement (y_train_five) pendant 3 epochs.\n",
    "model.fit(reformed_x_train, train_sur_5, epochs=3)"
   ]
  },
  {
   "cell_type": "code",
   "execution_count": 9,
   "metadata": {},
   "outputs": [
    {
     "name": "stdout",
     "output_type": "stream",
     "text": [
      "313/313 - 0s - loss: 0.1264 - accuracy: 0.9559 - 427ms/epoch - 1ms/step\n"
     ]
    }
   ],
   "source": [
    "## Afficher la précision de test print('\\nTest accuracy:', test_acc)\n",
    "test_loss, test_acc = model.evaluate(reformed_x_test, test_sur_5, verbose=2) "
   ]
  },
  {
   "cell_type": "code",
   "execution_count": 10,
   "metadata": {},
   "outputs": [
    {
     "name": "stdout",
     "output_type": "stream",
     "text": [
      "313/313 [==============================] - 0s 928us/step\n"
     ]
    },
    {
     "data": {
      "image/png": "[encoded data removed]",
      "text/plain": [
       "<Figure size 432x288 with 1 Axes>"
      ]
     },
     "metadata": {
      "needs_background": "light"
     },
     "output_type": "display_data"
    },
    {
     "name": "stdout",
     "output_type": "stream",
     "text": [
      "The Model Thinks This is not a 5\n",
      "313/313 [==============================] - 0s 1ms/step\n"
     ]
    },
    {
     "data": {
      "image/png": "[encoded data removed]",
      "text/plain": [
       "<Figure size 432x288 with 1 Axes>"
      ]
     },
     "metadata": {
      "needs_background": "light"
     },
     "output_type": "display_data"
    },
    {
     "name": "stdout",
     "output_type": "stream",
     "text": [
      "The Model Thinks This is a 5\n",
      "313/313 [==============================] - 0s 920us/step\n"
     ]
    },
    {
     "data": {
      "image/png": "[encoded data removed]",
      "text/plain": [
       "<Figure size 432x288 with 1 Axes>"
      ]
     },
     "metadata": {
      "needs_background": "light"
     },
     "output_type": "display_data"
    },
    {
     "name": "stdout",
     "output_type": "stream",
     "text": [
      "The Model Thinks This is a 5\n",
      "313/313 [==============================] - 0s 907us/step\n"
     ]
    },
    {
     "data": {
      "image/png": "[encoded data removed]",
      "text/plain": [
       "<Figure size 432x288 with 1 Axes>"
      ]
     },
     "metadata": {
      "needs_background": "light"
     },
     "output_type": "display_data"
    },
    {
     "name": "stdout",
     "output_type": "stream",
     "text": [
      "The Model Thinks This is not a 5\n",
      "313/313 [==============================] - 0s 896us/step\n"
     ]
    },
    {
     "data": {
      "image/png": "[encoded data removed]",
      "text/plain": [
       "<Figure size 432x288 with 1 Axes>"
      ]
     },
     "metadata": {
      "needs_background": "light"
     },
     "output_type": "display_data"
    },
    {
     "name": "stdout",
     "output_type": "stream",
     "text": [
      "The Model Thinks This is not a 5\n"
     ]
    }
   ],
   "source": [
    "#une fonction tester() est définie pour tester les prédictions du modèle sur les données de test.\n",
    "def tester():\n",
    " for i in range(5):\n",
    "  #demander à l'utilisateur de saisir un numéro de l'image de test\n",
    "  nbr = int(input())\n",
    "  #accéder à l'image correspondante\n",
    "  prediction = model.predict(reformed_x_test)\n",
    "  #faire la prediction sur cette image.\n",
    "  prediction[nbr]\n",
    "  plt.imshow(x_test[nbr], cmap='gray')\n",
    "  plt.show()\n",
    "  if (prediction[nbr]> 0.5):\n",
    "     print(\"The Model Thinks This is a 5\")\n",
    "  else:\n",
    "     print(\"The Model Thinks This is not a 5\")\n",
    "   \n",
    "tester()"
   ]
  }
 ],
 "metadata": {
  "kernelspec": {
   "display_name": "Python 3.9.5 64-bit",
   "language": "python",
   "name": "python3"
  },
  "language_info": {
   "codemirror_mode": {
    "name": "ipython",
    "version": 3
   },
   "file_extension": ".py",
   "mimetype": "text/x-python",
   "name": "python",
   "nbconvert_exporter": "python",
   "pygments_lexer": "ipython3",
   "version": "3.9.5"
  },
  "orig_nbformat": 4,
  "vscode": {
   "interpreter": {
    "hash": "453c46a113f44d2faa5d3845b756a2e0beede07eacbc01209e90fb6ea03a24bc"
   }
  }
 },
 "nbformat": 4,
 "nbformat_minor": 2
}
