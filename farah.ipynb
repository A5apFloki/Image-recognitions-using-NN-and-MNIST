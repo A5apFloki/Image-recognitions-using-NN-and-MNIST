{
 "cells": [
  {
   "attachments": {},
   "cell_type": "markdown",
   "metadata": {},
   "source": [
    "# <font color='red'>Ce code entraîne et évalue un réseau de neurones simple </br> pour reconnaître le nombre 5 dans les images de l'ensemble de données MNIST</font>"
   ]
  },
  {
   "attachments": {},
   "cell_type": "markdown",
   "metadata": {},
   "source": [
    "### Les bibliothèques nécessaires sont importées."
   ]
  },
  {
   "cell_type": "code",
   "execution_count": 22,
   "metadata": {},
   "outputs": [],
   "source": [
    "import tensorflow as tf\n",
    "from tensorflow import keras\n",
    "import numpy as np\n",
    "import matplotlib.pyplot as plt\n",
    "import random"
   ]
  },
  {
   "cell_type": "markdown",
   "metadata": {},
   "source": [
    "### Charger le dataset de données MNIST"
   ]
  },
  {
   "cell_type": "code",
   "execution_count": 23,
   "metadata": {},
   "outputs": [],
   "source": [
    "#chargement de données\n",
    "mnist=keras.datasets.mnist\n",
    "#Diviser le dataset de données en dataset d'entraînement et de test\n",
    "(x_train, y_train), (x_test, y_test) = mnist.load_data()\n",
    "#normaliser les valeurs de pixels\n",
    "x_train = x_train / 255.0\n",
    "x_test = x_test / 255.0\n"
   ]
  },
  {
   "attachments": {},
   "cell_type": "markdown",
   "metadata": {},
   "source": [
    "### Modifier les étiquettes pour qu'elles soient binaires : 1 si l'image est un 5, 0 sinon"
   ]
  },
  {
   "cell_type": "code",
   "execution_count": 24,
   "metadata": {},
   "outputs": [],
   "source": [
    "#1 si l'image est un 5, 0 sinon\n",
    "y_train_5 = (y_train == 5)\n",
    "y_test_5 = (y_test == 5)"
   ]
  },
  {
   "attachments": {},
   "cell_type": "markdown",
   "metadata": {},
   "source": [
    "### Définir le modèle"
   ]
  },
  {
   "cell_type": "code",
   "execution_count": 25,
   "metadata": {},
   "outputs": [],
   "source": [
    "model = keras.Sequential([\n",
    "    # Aplatir les images 28x28 en des tableaux 1D\n",
    "    keras.layers.Flatten(input_shape=(28, 28)),\n",
    "    # Ajouter une couche cachée entièrement connectée (Dense) avec 64 unités et une activation ReLU\n",
    "    keras.layers.Dense(64, activation='relu'),\n",
    "    # Ajouter une couche de sortie sigmoïde avec une seule unité\n",
    "    keras.layers.Dense(1, activation='sigmoid')\n",
    "])\n",
    "#sigmoid pour les  \"binary problems\""
   ]
  },
  {
   "attachments": {},
   "cell_type": "markdown",
   "metadata": {},
   "source": [
    "### Compiler le modèle avec l'optimiseur Adam, la perte de croisement binaire et la métrique de précision"
   ]
  },
  {
   "cell_type": "code",
   "execution_count": 26,
   "metadata": {},
   "outputs": [],
   "source": [
    "# Compiler le modèle\n",
    "model.compile(optimizer='adam', \n",
    "             loss='binary_crossentropy', \n",
    "             metrics=['accuracy'])"
   ]
  },
  {
   "attachments": {},
   "cell_type": "markdown",
   "metadata": {},
   "source": [
    "### Entraîner le modèle pendant 5 epochs et évaluer le modèle sur l'ensemble de test"
   ]
  },
  {
   "cell_type": "code",
   "execution_count": 27,
   "metadata": {},
   "outputs": [
    {
     "name": "stdout",
     "output_type": "stream",
     "text": [
      "Epoch 1/5\n",
      "1875/1875 [==============================] - 3s 2ms/step - loss: 0.0582 - accuracy: 0.9808\n",
      "Epoch 2/5\n",
      "1875/1875 [==============================] - 3s 1ms/step - loss: 0.0230 - accuracy: 0.9926\n",
      "Epoch 3/5\n",
      "1875/1875 [==============================] - 3s 1ms/step - loss: 0.0163 - accuracy: 0.9947\n",
      "Epoch 4/5\n",
      "1875/1875 [==============================] - 3s 1ms/step - loss: 0.0122 - accuracy: 0.9962\n",
      "Epoch 5/5\n",
      "1875/1875 [==============================] - 3s 2ms/step - loss: 0.0096 - accuracy: 0.9969\n",
      "313/313 - 0s - loss: 47.0370 - accuracy: 0.0977 - 467ms/epoch - 1ms/step\n",
      "\n",
      "Test accuracy: 0.09769999980926514\n"
     ]
    }
   ],
   "source": [
    "#5 epochs\n",
    "model.fit(x_train, y_train_5, epochs=5)\n",
    "#En réglant verbose  2, nous disons simplement comment on veut \"voir\" la progression de l'entraînement pour chaque époque.\n",
    "test_loss, test_acc = model.evaluate(x_test, y_test, verbose=2)\n",
    "## Afficher la précision de test\n",
    "print('\\nTest accuracy:', test_acc)"
   ]
  },
  {
   "attachments": {},
   "cell_type": "markdown",
   "metadata": {},
   "source": [
    "### une simple méthode pour faire et visualiser une prédiction"
   ]
  },
  {
   "cell_type": "code",
   "execution_count": 28,
   "metadata": {},
   "outputs": [
    {
     "name": "stdout",
     "output_type": "stream",
     "text": [
      "1/1 [==============================] - 0s 51ms/step\n",
      " this is not a 5\n"
     ]
    },
    {
     "data": {
      "image/png": "[encoded data removed]",
      "text/plain": [
       "<Figure size 432x288 with 1 Axes>"
      ]
     },
     "metadata": {
      "needs_background": "light"
     },
     "output_type": "display_data"
    }
   ],
   "source": [
    "# Sélectionner une image au hasard dans l'ensemble de test et faire une prédiction\n",
    "image = x_test[random.randint(0,255)]\n",
    "# [0][0] pour rendre la premiere prédiction de la première classe seulement\n",
    "prediction = model.predict(image.reshape(1, 28, 28))[0][0]\n",
    "\n",
    "# Afficher la prédiction et l'image\n",
    "if prediction > 0.5:\n",
    "  print(\"this is a 5\")\n",
    "else:\n",
    "  print(\" this is not a 5\")\n",
    "plt.imshow(image)\n",
    "plt.show()"
   ]
  }
 ],
 "metadata": {
  "kernelspec": {
   "display_name": "Python 3.9.5 64-bit",
   "language": "python",
   "name": "python3"
  },
  "language_info": {
   "codemirror_mode": {
    "name": "ipython",
    "version": 3
   },
   "file_extension": ".py",
   "mimetype": "text/x-python",
   "name": "python",
   "nbconvert_exporter": "python",
   "pygments_lexer": "ipython3",
   "version": "3.9.5 (tags/v3.9.5:0a7dcbd, May  3 2021, 17:27:52) [MSC v.1928 64 bit (AMD64)]"
  },
  "orig_nbformat": 4,
  "vscode": {
   "interpreter": {
    "hash": "453c46a113f44d2faa5d3845b756a2e0beede07eacbc01209e90fb6ea03a24bc"
   }
  }
 },
 "nbformat": 4,
 "nbformat_minor": 2
}
