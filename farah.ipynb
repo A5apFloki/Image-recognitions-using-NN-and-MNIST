{
 "cells": [
  {
   "attachments": {},
   "cell_type": "markdown",
   "metadata": {},
   "source": [
    "# <font color='red'>Ce code entraîne et évalue un réseau de neurones simple </br> pour reconnaître le nombre 5 dans les images de l'ensemble de données MNIST</font>"
   ]
  },
  {
   "attachments": {},
   "cell_type": "markdown",
   "metadata": {},
   "source": [
    "### Les bibliothèques nécessaires sont importées."
   ]
  },
  {
   "cell_type": "code",
   "execution_count": 68,
   "metadata": {},
   "outputs": [],
   "source": [
    "import tensorflow as tf\n",
    "from tensorflow import keras\n",
    "import numpy as np\n",
    "import matplotlib.pyplot as plt\n",
    "import random"
   ]
  },
  {
   "cell_type": "code",
   "execution_count": 69,
   "metadata": {},
   "outputs": [],
   "source": [
    "# import the dataset\n",
    "# x is the images, y is the corresponding label of each image\n",
    "(x_train, y_train), (x_test, y_test) = keras.datasets.mnist.load_data()\n",
    "\n",
    "x_train[x_train < 127] = 1\n",
    "x_train[x_train >= 127] = 0\n",
    "\n",
    "x_test[x_test < 127] = 1\n",
    "x_test[x_test >= 127] = 0"
   ]
  },
  {
   "cell_type": "code",
   "execution_count": 70,
   "metadata": {},
   "outputs": [],
   "source": [
    "def Divide_By_4(img):\n",
    "    h, w = img.shape\n",
    "\n",
    "    half = w // 2\n",
    "\n",
    "    top_right = img[:half, :half] \n",
    "    top_left = img[:half, half:] \n",
    "    bottom_right = img[half:, :half] \n",
    "    bottom_left = img[half:, half:]\n",
    "\n",
    "    return top_right, top_left, bottom_right, bottom_left\n",
    "\n",
    "def Divide_By_4_Again(img):\n",
    "    tr, tl, br, bl = Divide_By_4(img)\n",
    "    image_reformed = Divide_By_4(tr), Divide_By_4(tl), Divide_By_4(br), Divide_By_4(bl)\n",
    "    image_reformed = np.asarray(image_reformed)\n",
    "    image_reformed = image_reformed.reshape(16, 7, 7)\n",
    "    return image_reformed"
   ]
  },
  {
   "cell_type": "code",
   "execution_count": 71,
   "metadata": {},
   "outputs": [],
   "source": [
    "def reformulate_Mnist_With_Percentage(x):\n",
    "    data = []\n",
    "    for i in x:\n",
    "        img = Divide_By_4_Again(i)\n",
    "        img_percent = []\n",
    "        for j in range(16):\n",
    "            blacks = 0\n",
    "            for k in range(7):\n",
    "                for l in range(7):\n",
    "                    if(img[j][k][l] == 0):\n",
    "                        blacks += 1\n",
    "            img_percent.append((blacks / 49) * 100)\n",
    "        data.append(img_percent)\n",
    "    return data\n",
    "\n",
    "reformed_x_train = reformulate_Mnist_With_Percentage(x_train)\n",
    "reformed_x_test = reformulate_Mnist_With_Percentage(x_test)"
   ]
  },
  {
   "attachments": {},
   "cell_type": "markdown",
   "metadata": {},
   "source": [
    "### Modifier les étiquettes pour qu'elles soient binaires : 1 si l'image est un 5, 0 sinon"
   ]
  },
  {
   "cell_type": "code",
   "execution_count": 72,
   "metadata": {},
   "outputs": [],
   "source": [
    "#1 si l'image est un 5, 0 sinon\n",
    "y_train_5 = (y_train == 5)\n",
    "y_test_5 = (y_test == 5)\n",
    "\n",
    "reformed_x_train = np.array(reformed_x_train)\n",
    "reformed_x_test = np.array(reformed_x_test)"
   ]
  },
  {
   "attachments": {},
   "cell_type": "markdown",
   "metadata": {},
   "source": [
    "### Définir le modèle"
   ]
  },
  {
   "cell_type": "code",
   "execution_count": 94,
   "metadata": {},
   "outputs": [
    {
     "name": "stdout",
     "output_type": "stream",
     "text": [
      "Epoch 1/3\n",
      "1875/1875 [==============================] - 3s 1ms/step - loss: 0.3476 - accuracy: 0.9186\n",
      "Epoch 2/3\n",
      "1875/1875 [==============================] - 2s 1ms/step - loss: 0.1471 - accuracy: 0.9458\n",
      "Epoch 3/3\n",
      "1875/1875 [==============================] - 2s 1ms/step - loss: 0.1259 - accuracy: 0.9509\n"
     ]
    },
    {
     "data": {
      "text/plain": [
       "<keras.callbacks.History at 0x1f507cd35b0>"
      ]
     },
     "execution_count": 94,
     "metadata": {},
     "output_type": "execute_result"
    }
   ],
   "source": [
    "# selecting 5 from the dataset\n",
    "y_train_five = (y_train == 5) # create a an array of booleans\n",
    "y_test_five = (y_test == 5)\n",
    "\n",
    "\n",
    "model = keras.Sequential([\n",
    "    keras.layers.Dense(6, input_shape=(16,), activation='relu'),\n",
    "    keras.layers.Dense(1, activation='sigmoid')\n",
    "])\n",
    "\n",
    "model.compile(\n",
    "    optimizer='adam',\n",
    "    loss='BinaryCrossentropy',\n",
    "    metrics=['accuracy']\n",
    ")\n",
    "\n",
    "model.fit(reformed_x_train, y_train_five, epochs=3)"
   ]
  },
  {
   "cell_type": "code",
   "execution_count": 95,
   "metadata": {},
   "outputs": [
    {
     "name": "stdout",
     "output_type": "stream",
     "text": [
      "313/313 [==============================] - 0s 878us/step\n"
     ]
    },
    {
     "data": {
      "image/png": "[encoded data removed]",
      "text/plain": [
       "<Figure size 432x288 with 1 Axes>"
      ]
     },
     "metadata": {
      "needs_background": "light"
     },
     "output_type": "display_data"
    },
    {
     "name": "stdout",
     "output_type": "stream",
     "text": [
      "The Model Thinks This is not a 5\n",
      "313/313 [==============================] - 0s 910us/step\n"
     ]
    },
    {
     "data": {
      "image/png": "[encoded data removed]",
      "text/plain": [
       "<Figure size 432x288 with 1 Axes>"
      ]
     },
     "metadata": {
      "needs_background": "light"
     },
     "output_type": "display_data"
    },
    {
     "name": "stdout",
     "output_type": "stream",
     "text": [
      "The Model Thinks This is a 5\n",
      "313/313 [==============================] - 0s 869us/step\n"
     ]
    },
    {
     "data": {
      "image/png": "[encoded data removed]",
      "text/plain": [
       "<Figure size 432x288 with 1 Axes>"
      ]
     },
     "metadata": {
      "needs_background": "light"
     },
     "output_type": "display_data"
    },
    {
     "name": "stdout",
     "output_type": "stream",
     "text": [
      "The Model Thinks This is not a 5\n",
      "313/313 [==============================] - 0s 875us/step\n"
     ]
    },
    {
     "data": {
      "image/png": "[encoded data removed]",
      "text/plain": [
       "<Figure size 432x288 with 1 Axes>"
      ]
     },
     "metadata": {
      "needs_background": "light"
     },
     "output_type": "display_data"
    },
    {
     "name": "stdout",
     "output_type": "stream",
     "text": [
      "The Model Thinks This is not a 5\n",
      "313/313 [==============================] - 0s 1ms/step\n"
     ]
    },
    {
     "data": {
      "image/png": "[encoded data removed]",
      "text/plain": [
       "<Figure size 432x288 with 1 Axes>"
      ]
     },
     "metadata": {
      "needs_background": "light"
     },
     "output_type": "display_data"
    },
    {
     "name": "stdout",
     "output_type": "stream",
     "text": [
      "The Model Thinks This is not a 5\n",
      "313/313 [==============================] - 0s 862us/step\n"
     ]
    },
    {
     "data": {
      "image/png": "[encoded data removed]",
      "text/plain": [
       "<Figure size 432x288 with 1 Axes>"
      ]
     },
     "metadata": {
      "needs_background": "light"
     },
     "output_type": "display_data"
    },
    {
     "name": "stdout",
     "output_type": "stream",
     "text": [
      "The Model Thinks This is not a 5\n",
      "313/313 [==============================] - 0s 874us/step\n"
     ]
    },
    {
     "data": {
      "image/png": "[encoded data removed]",
      "text/plain": [
       "<Figure size 432x288 with 1 Axes>"
      ]
     },
     "metadata": {
      "needs_background": "light"
     },
     "output_type": "display_data"
    },
    {
     "name": "stdout",
     "output_type": "stream",
     "text": [
      "The Model Thinks This is not a 5\n",
      "313/313 [==============================] - 0s 861us/step\n"
     ]
    },
    {
     "data": {
      "image/png": "[encoded data removed]",
      "text/plain": [
       "<Figure size 432x288 with 1 Axes>"
      ]
     },
     "metadata": {
      "needs_background": "light"
     },
     "output_type": "display_data"
    },
    {
     "name": "stdout",
     "output_type": "stream",
     "text": [
      "The Model Thinks This is not a 5\n",
      "313/313 [==============================] - 0s 1ms/step\n"
     ]
    },
    {
     "data": {
      "image/png": "[encoded data removed]",
      "text/plain": [
       "<Figure size 432x288 with 1 Axes>"
      ]
     },
     "metadata": {
      "needs_background": "light"
     },
     "output_type": "display_data"
    },
    {
     "name": "stdout",
     "output_type": "stream",
     "text": [
      "The Model Thinks This is not a 5\n",
      "313/313 [==============================] - 0s 897us/step\n"
     ]
    },
    {
     "data": {
      "image/png": "[encoded data removed]",
      "text/plain": [
       "<Figure size 432x288 with 1 Axes>"
      ]
     },
     "metadata": {
      "needs_background": "light"
     },
     "output_type": "display_data"
    },
    {
     "name": "stdout",
     "output_type": "stream",
     "text": [
      "The Model Thinks This is a 5\n"
     ]
    }
   ],
   "source": [
    "def tester():\n",
    " for i in range(10):\n",
    "  nbr = int(input())\n",
    "  prediction = model.predict(reformed_x_test)\n",
    "  prediction[nbr]\n",
    "  plt.imshow(x_test[nbr], cmap='gray')\n",
    "  plt.show()\n",
    "  if (prediction[nbr]> 0.5):\n",
    "\n",
    "     print(\"The Model Thinks This is a 5\")\n",
    "  else:\n",
    "     print(\"The Model Thinks This is not a 5\")\n",
    "   \n",
    "tester()"
   ]
  }
 ],
 "metadata": {
  "kernelspec": {
   "display_name": "Python 3.9.5 64-bit",
   "language": "python",
   "name": "python3"
  },
  "language_info": {
   "codemirror_mode": {
    "name": "ipython",
    "version": 3
   },
   "file_extension": ".py",
   "mimetype": "text/x-python",
   "name": "python",
   "nbconvert_exporter": "python",
   "pygments_lexer": "ipython3",
   "version": "3.9.5"
  },
  "orig_nbformat": 4,
  "vscode": {
   "interpreter": {
    "hash": "453c46a113f44d2faa5d3845b756a2e0beede07eacbc01209e90fb6ea03a24bc"
   }
  }
 },
 "nbformat": 4,
 "nbformat_minor": 2
}
